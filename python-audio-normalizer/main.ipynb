{
 "cells": [
  {
   "cell_type": "code",
   "execution_count": 51,
   "metadata": {},
   "outputs": [
    {
     "name": "stdout",
     "output_type": "stream",
     "text": [
      "-16.626355122831356 -9.056355122831363 -8.999999999999991 꽃과 함께, 봄은 다시 돌아와.mp3\n",
      "-10.491618396135898 -9.121618396135895 -9.000000000000002 꽃내림.mp3\n",
      "-8.822827018475943 -9.052827018475943 -9.000000000000002 너의 색에 물들어.mp3\n",
      "-10.159721952025503 -9.169721952025506 -8.999999999999996 매화에 휘파람새.mp3\n",
      "-9.735741228906889 -9.005741228906878 -8.999999999999991 멜트.mp3\n",
      "-9.369027694604107 -9.0690276946041 -8.999999999999998 방과 후 스트라이드.mp3\n",
      "-10.735617144747616 -9.035617144747608 -8.999999999999993 벚꽃비.mp3\n",
      "-11.057044378658361 -9.197044378658365 -9.000000000000002 봄에 가장 가까운 거리.mp3\n",
      "-12.58882091893544 -9.008820918935438 -8.999999999999998 봄의 적막함.mp3\n",
      "-11.071169564903691 -9.791169564903688 -8.999999999999998 안녕, 꽃도둑씨.mp3\n",
      "-10.313607509863122 -9.033607509863122 -8.99999999999999 우는 척을 했어.mp3\n",
      "-14.328259646210139 -9.048259646210125 -9.000000000000005 절망.mp3\n"
     ]
    }
   ],
   "source": [
    "import pydub\n",
    "import numpy as np\n",
    "import matplotlib.pyplot as plt\n",
    "import os\n",
    "from colorama import Fore, Style\n",
    "\n",
    "files = os.listdir(\"audio\")\n",
    "volumes = [7.57, 1.37, -0.23, 0.99, 0.73, 0.30, 1.70, 1.86, 3.58, 1.28, 1.28, 5.28]\n",
    "for file_name, volume in zip(files, volumes):\n",
    "    # file_name = \"너의 색에 물들어.mp3\"\n",
    "    # file_name = \"꽃내림.mp3\"\n",
    "    file = pydub.AudioSegment.from_mp3(os.path.join(\"audio\", file_name))\n",
    "    samples = np.array(file.get_array_of_samples(), dtype=np.int64)\n",
    "    reference_value = pow(2, 15)\n",
    "\n",
    "    square = np.square(samples)\n",
    "    mean = np.mean(square)\n",
    "    rms = np.sqrt(mean)\n",
    "    rms_db = 20 * np.log10(rms / reference_value)\n",
    "\n",
    "    # db = -0.23\n",
    "    db = volume\n",
    "    linear_scale = 10 ** (db / 20)\n",
    "    volume_adjusted_sample = samples * linear_scale\n",
    "    volume_adjusted_square = np.square(volume_adjusted_sample)\n",
    "    volume_adjusted_mean = np.mean(volume_adjusted_square)\n",
    "    volume_adjusted_rms = np.sqrt(volume_adjusted_mean)\n",
    "    volume_adjusted_rms_db = 20 * np.log10(volume_adjusted_rms / reference_value)\n",
    "\n",
    "    target = -9 - rms_db\n",
    "    target_linear_scale = 10 ** (target / 20)\n",
    "    target_adjusted_sample = samples * target_linear_scale\n",
    "    target_adjusted_square = np.square(target_adjusted_sample)\n",
    "    target_adjusted_mean = np.mean(target_adjusted_square)\n",
    "    target_adjusted_rms = np.sqrt(target_adjusted_mean)\n",
    "    target_adjusted_rms_db = 20 * np.log10(target_adjusted_rms / reference_value)\n",
    "\n",
    "    print(f\"{rms_db} {volume_adjusted_rms_db} {target_adjusted_rms_db} {file_name}\")\n",
    "\n",
    "# plt.subplot(2, 1, 1)\n",
    "# plt.plot(samples[pow(10, 4):pow(10, 5)])\n",
    "# plt.plot(rms * np.ones(pow(10, 5) - pow(10, 4)))\n",
    "# plt.plot(samples)\n",
    "# plt.plot(rms * np.ones(len(samples)))\n",
    "# plt.subplot(2, 1, 2)\n",
    "# plt.plot(square[pow(10, 4):pow(10, 5)])\n",
    "# plt.plot(square)"
   ]
  }
 ],
 "metadata": {
  "kernelspec": {
   "display_name": "venv",
   "language": "python",
   "name": "python3"
  },
  "language_info": {
   "codemirror_mode": {
    "name": "ipython",
    "version": 3
   },
   "file_extension": ".py",
   "mimetype": "text/x-python",
   "name": "python",
   "nbconvert_exporter": "python",
   "pygments_lexer": "ipython3",
   "version": "3.12.4"
  }
 },
 "nbformat": 4,
 "nbformat_minor": 2
}
